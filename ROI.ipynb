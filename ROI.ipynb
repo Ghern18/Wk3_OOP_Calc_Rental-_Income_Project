{
 "cells": [
  {
   "cell_type": "code",
   "execution_count": 1,
   "id": "ffbf1cf6",
   "metadata": {},
   "outputs": [],
   "source": [
    "#Object Oriented Project - WK 3, Dy4\n",
    "    #Watch video on how ROI is calculated\n",
    "    #Create a program that will CALULATE the ROI for the rental property!"
   ]
  },
  {
   "cell_type": "code",
   "execution_count": null,
   "id": "1ed515ee",
   "metadata": {},
   "outputs": [],
   "source": [
    "#Brainstorm from video:\n",
    "    #Inputs needed - monthly income, monthly expenses, cash on cash investment\n",
    "    #1. function for income (subtract) monthly expenses to = cash flow\n",
    "    #2. function for cash flow * 12 = annual cash flow\n",
    "    #3. function annual cash flow / cash on cash investment\n",
    "    # output will be ROI"
   ]
  },
  {
   "cell_type": "code",
   "execution_count": null,
   "id": "39eaaaa8",
   "metadata": {},
   "outputs": [],
   "source": [
    "#income = input(\"What is your monthly income?\")\n",
    "#print (income)\n",
    "\n",
    "#expenses = input(\"What is your total monthly expenses?\")\n",
    "#print(expenses)\n",
    "#cashflow = income - expenses\n",
    "\n",
    "#print(str(cashflow))"
   ]
  },
  {
   "cell_type": "code",
   "execution_count": 1,
   "id": "88268c83",
   "metadata": {},
   "outputs": [
    {
     "name": "stdout",
     "output_type": "stream",
     "text": [
      "What is your monthly income? 3460\n",
      "What is your total monthly expenses? 1578\n",
      "What is your total Cash on cash investment? 67843.24\n",
      "Your return on investment is: 33.29%\n"
     ]
    }
   ],
   "source": [
    "class InvestmentCalculator:\n",
    "    def __init__(self, income, expenses, cash_investment):\n",
    "        self.income = float(income)\n",
    "        self.expenses = float(expenses)\n",
    "        self.cash_investment = float(cash_investment)\n",
    "\n",
    "    def calculate_cashflow(self):\n",
    "        return self.income - self.expenses\n",
    "\n",
    "    def calculate_annual_cashflow(self):\n",
    "        monthly_cashflow = self.calculate_cashflow()\n",
    "        return monthly_cashflow * 12\n",
    "\n",
    "    def calculate_return_on_investment(self):\n",
    "        annual_cashflow = self.calculate_annual_cashflow()\n",
    "        return annual_cashflow / self.cash_investment\n",
    "\n",
    "if __name__ == \"__main__\":\n",
    "    income = input(\"What is your monthly income? \")\n",
    "    expenses = input(\"What is your total monthly expenses? \")\n",
    "    cash_investment = input(\"What is your total Cash on cash investment? \")\n",
    "\n",
    "\n",
    "    calculator = InvestmentCalculator(income, expenses, cash_investment)\n",
    "\n",
    "# Calculate return on investment\n",
    "    return_on_investment = calculator.calculate_return_on_investment()\n",
    "\n",
    "# Display the result\n",
    "    print(f\"Your return on investment is: {return_on_investment:.2%}\")"
   ]
  },
  {
   "cell_type": "code",
   "execution_count": null,
   "id": "0187e647",
   "metadata": {},
   "outputs": [],
   "source": []
  }
 ],
 "metadata": {
  "kernelspec": {
   "display_name": "Python 3 (ipykernel)",
   "language": "python",
   "name": "python3"
  },
  "language_info": {
   "codemirror_mode": {
    "name": "ipython",
    "version": 3
   },
   "file_extension": ".py",
   "mimetype": "text/x-python",
   "name": "python",
   "nbconvert_exporter": "python",
   "pygments_lexer": "ipython3",
   "version": "3.11.5"
  }
 },
 "nbformat": 4,
 "nbformat_minor": 5
}
